{
  "nbformat": 4,
  "nbformat_minor": 0,
  "metadata": {
    "colab": {
      "name": "Telco_Customer_churn",
      "provenance": [],
      "collapsed_sections": [],
      "toc_visible": true,
      "authorship_tag": "ABX9TyO30BALmH6r/b5NIlUa9O6A",
      "include_colab_link": true
    },
    "kernelspec": {
      "name": "python3",
      "display_name": "Python 3"
    }
  },
  "cells": [
    {
      "cell_type": "markdown",
      "metadata": {
        "id": "view-in-github",
        "colab_type": "text"
      },
      "source": [
        "<a href=\"https://colab.research.google.com/github/mitali-datascientist/Customer_churn/blob/master/Telco_Customer_churn.ipynb\" target=\"_parent\"><img src=\"https://colab.research.google.com/assets/colab-badge.svg\" alt=\"Open In Colab\"/></a>"
      ]
    },
    {
      "cell_type": "code",
      "metadata": {
        "id": "w3wIQtl0_gDg",
        "colab_type": "code",
        "colab": {}
      },
      "source": [
        "#Import pandas library\n",
        "import pandas as pd"
      ],
      "execution_count": 0,
      "outputs": []
    },
    {
      "cell_type": "code",
      "metadata": {
        "id": "VAcleCBM_w48",
        "colab_type": "code",
        "colab": {}
      },
      "source": [
        "#Read data\n",
        "data = pd.read_csv('/content/churn.csv')"
      ],
      "execution_count": 0,
      "outputs": []
    },
    {
      "cell_type": "code",
      "metadata": {
        "id": "YG2xgIIvISew",
        "colab_type": "code",
        "outputId": "746df3d8-8301-437e-c098-8563c91c49e1",
        "colab": {
          "base_uri": "https://localhost:8080/",
          "height": 34
        }
      },
      "source": [
        "# Size of data\n",
        "data.shape"
      ],
      "execution_count": 3,
      "outputs": [
        {
          "output_type": "execute_result",
          "data": {
            "text/plain": [
              "(3333, 21)"
            ]
          },
          "metadata": {
            "tags": []
          },
          "execution_count": 3
        }
      ]
    },
    {
      "cell_type": "code",
      "metadata": {
        "id": "08baNzvN_1-j",
        "colab_type": "code",
        "outputId": "347bc18d-2447-4313-8c9b-c3e83f1ee415",
        "colab": {
          "base_uri": "https://localhost:8080/",
          "height": 309
        }
      },
      "source": [
        "#View data\n",
        "data.head()"
      ],
      "execution_count": 4,
      "outputs": [
        {
          "output_type": "execute_result",
          "data": {
            "text/html": [
              "<div>\n",
              "<style scoped>\n",
              "    .dataframe tbody tr th:only-of-type {\n",
              "        vertical-align: middle;\n",
              "    }\n",
              "\n",
              "    .dataframe tbody tr th {\n",
              "        vertical-align: top;\n",
              "    }\n",
              "\n",
              "    .dataframe thead th {\n",
              "        text-align: right;\n",
              "    }\n",
              "</style>\n",
              "<table border=\"1\" class=\"dataframe\">\n",
              "  <thead>\n",
              "    <tr style=\"text-align: right;\">\n",
              "      <th></th>\n",
              "      <th>Account_Length</th>\n",
              "      <th>Vmail_Message</th>\n",
              "      <th>Day_Mins</th>\n",
              "      <th>Eve_Mins</th>\n",
              "      <th>Night_Mins</th>\n",
              "      <th>Intl_Mins</th>\n",
              "      <th>CustServ_Calls</th>\n",
              "      <th>Churn</th>\n",
              "      <th>Intl_Plan</th>\n",
              "      <th>Vmail_Plan</th>\n",
              "      <th>Day_Calls</th>\n",
              "      <th>Day_Charge</th>\n",
              "      <th>Eve_Calls</th>\n",
              "      <th>Eve_Charge</th>\n",
              "      <th>Night_Calls</th>\n",
              "      <th>Night_Charge</th>\n",
              "      <th>Intl_Calls</th>\n",
              "      <th>Intl_Charge</th>\n",
              "      <th>State</th>\n",
              "      <th>Area_Code</th>\n",
              "      <th>Phone</th>\n",
              "    </tr>\n",
              "  </thead>\n",
              "  <tbody>\n",
              "    <tr>\n",
              "      <th>0</th>\n",
              "      <td>128</td>\n",
              "      <td>25</td>\n",
              "      <td>265.1</td>\n",
              "      <td>197.4</td>\n",
              "      <td>244.7</td>\n",
              "      <td>10.0</td>\n",
              "      <td>1</td>\n",
              "      <td>no</td>\n",
              "      <td>no</td>\n",
              "      <td>yes</td>\n",
              "      <td>110</td>\n",
              "      <td>45.07</td>\n",
              "      <td>99</td>\n",
              "      <td>16.78</td>\n",
              "      <td>91</td>\n",
              "      <td>11.01</td>\n",
              "      <td>3</td>\n",
              "      <td>2.70</td>\n",
              "      <td>KS</td>\n",
              "      <td>415</td>\n",
              "      <td>382-4657</td>\n",
              "    </tr>\n",
              "    <tr>\n",
              "      <th>1</th>\n",
              "      <td>107</td>\n",
              "      <td>26</td>\n",
              "      <td>161.6</td>\n",
              "      <td>195.5</td>\n",
              "      <td>254.4</td>\n",
              "      <td>13.7</td>\n",
              "      <td>1</td>\n",
              "      <td>no</td>\n",
              "      <td>no</td>\n",
              "      <td>yes</td>\n",
              "      <td>123</td>\n",
              "      <td>27.47</td>\n",
              "      <td>103</td>\n",
              "      <td>16.62</td>\n",
              "      <td>103</td>\n",
              "      <td>11.45</td>\n",
              "      <td>3</td>\n",
              "      <td>3.70</td>\n",
              "      <td>OH</td>\n",
              "      <td>415</td>\n",
              "      <td>371-7191</td>\n",
              "    </tr>\n",
              "    <tr>\n",
              "      <th>2</th>\n",
              "      <td>137</td>\n",
              "      <td>0</td>\n",
              "      <td>243.4</td>\n",
              "      <td>121.2</td>\n",
              "      <td>162.6</td>\n",
              "      <td>12.2</td>\n",
              "      <td>0</td>\n",
              "      <td>no</td>\n",
              "      <td>no</td>\n",
              "      <td>no</td>\n",
              "      <td>114</td>\n",
              "      <td>41.38</td>\n",
              "      <td>110</td>\n",
              "      <td>10.30</td>\n",
              "      <td>104</td>\n",
              "      <td>7.32</td>\n",
              "      <td>5</td>\n",
              "      <td>3.29</td>\n",
              "      <td>NJ</td>\n",
              "      <td>415</td>\n",
              "      <td>358-1921</td>\n",
              "    </tr>\n",
              "    <tr>\n",
              "      <th>3</th>\n",
              "      <td>84</td>\n",
              "      <td>0</td>\n",
              "      <td>299.4</td>\n",
              "      <td>61.9</td>\n",
              "      <td>196.9</td>\n",
              "      <td>6.6</td>\n",
              "      <td>2</td>\n",
              "      <td>no</td>\n",
              "      <td>yes</td>\n",
              "      <td>no</td>\n",
              "      <td>71</td>\n",
              "      <td>50.90</td>\n",
              "      <td>88</td>\n",
              "      <td>5.26</td>\n",
              "      <td>89</td>\n",
              "      <td>8.86</td>\n",
              "      <td>7</td>\n",
              "      <td>1.78</td>\n",
              "      <td>OH</td>\n",
              "      <td>408</td>\n",
              "      <td>375-9999</td>\n",
              "    </tr>\n",
              "    <tr>\n",
              "      <th>4</th>\n",
              "      <td>75</td>\n",
              "      <td>0</td>\n",
              "      <td>166.7</td>\n",
              "      <td>148.3</td>\n",
              "      <td>186.9</td>\n",
              "      <td>10.1</td>\n",
              "      <td>3</td>\n",
              "      <td>no</td>\n",
              "      <td>yes</td>\n",
              "      <td>no</td>\n",
              "      <td>113</td>\n",
              "      <td>28.34</td>\n",
              "      <td>122</td>\n",
              "      <td>12.61</td>\n",
              "      <td>121</td>\n",
              "      <td>8.41</td>\n",
              "      <td>3</td>\n",
              "      <td>2.73</td>\n",
              "      <td>OK</td>\n",
              "      <td>415</td>\n",
              "      <td>330-6626</td>\n",
              "    </tr>\n",
              "  </tbody>\n",
              "</table>\n",
              "</div>"
            ],
            "text/plain": [
              "   Account_Length  Vmail_Message  Day_Mins  ...  State  Area_Code     Phone\n",
              "0             128             25     265.1  ...     KS        415  382-4657\n",
              "1             107             26     161.6  ...     OH        415  371-7191\n",
              "2             137              0     243.4  ...     NJ        415  358-1921\n",
              "3              84              0     299.4  ...     OH        408  375-9999\n",
              "4              75              0     166.7  ...     OK        415  330-6626\n",
              "\n",
              "[5 rows x 21 columns]"
            ]
          },
          "metadata": {
            "tags": []
          },
          "execution_count": 4
        }
      ]
    },
    {
      "cell_type": "code",
      "metadata": {
        "id": "_A-9EK23H5Ps",
        "colab_type": "code",
        "outputId": "5b0ef216-0040-4ae8-8ae3-a35744428622",
        "colab": {
          "base_uri": "https://localhost:8080/",
          "height": 317
        }
      },
      "source": [
        "#Summary of data \n",
        "data.describe()"
      ],
      "execution_count": 5,
      "outputs": [
        {
          "output_type": "execute_result",
          "data": {
            "text/html": [
              "<div>\n",
              "<style scoped>\n",
              "    .dataframe tbody tr th:only-of-type {\n",
              "        vertical-align: middle;\n",
              "    }\n",
              "\n",
              "    .dataframe tbody tr th {\n",
              "        vertical-align: top;\n",
              "    }\n",
              "\n",
              "    .dataframe thead th {\n",
              "        text-align: right;\n",
              "    }\n",
              "</style>\n",
              "<table border=\"1\" class=\"dataframe\">\n",
              "  <thead>\n",
              "    <tr style=\"text-align: right;\">\n",
              "      <th></th>\n",
              "      <th>Account_Length</th>\n",
              "      <th>Vmail_Message</th>\n",
              "      <th>Day_Mins</th>\n",
              "      <th>Eve_Mins</th>\n",
              "      <th>Night_Mins</th>\n",
              "      <th>Intl_Mins</th>\n",
              "      <th>CustServ_Calls</th>\n",
              "      <th>Day_Calls</th>\n",
              "      <th>Day_Charge</th>\n",
              "      <th>Eve_Calls</th>\n",
              "      <th>Eve_Charge</th>\n",
              "      <th>Night_Calls</th>\n",
              "      <th>Night_Charge</th>\n",
              "      <th>Intl_Calls</th>\n",
              "      <th>Intl_Charge</th>\n",
              "      <th>Area_Code</th>\n",
              "    </tr>\n",
              "  </thead>\n",
              "  <tbody>\n",
              "    <tr>\n",
              "      <th>count</th>\n",
              "      <td>3333.000000</td>\n",
              "      <td>3333.000000</td>\n",
              "      <td>3333.000000</td>\n",
              "      <td>3333.000000</td>\n",
              "      <td>3333.000000</td>\n",
              "      <td>3333.000000</td>\n",
              "      <td>3333.000000</td>\n",
              "      <td>3333.000000</td>\n",
              "      <td>3333.000000</td>\n",
              "      <td>3333.000000</td>\n",
              "      <td>3333.000000</td>\n",
              "      <td>3333.000000</td>\n",
              "      <td>3333.000000</td>\n",
              "      <td>3333.000000</td>\n",
              "      <td>3333.000000</td>\n",
              "      <td>3333.000000</td>\n",
              "    </tr>\n",
              "    <tr>\n",
              "      <th>mean</th>\n",
              "      <td>101.064806</td>\n",
              "      <td>8.099010</td>\n",
              "      <td>179.775098</td>\n",
              "      <td>200.980348</td>\n",
              "      <td>200.872037</td>\n",
              "      <td>10.237294</td>\n",
              "      <td>1.562856</td>\n",
              "      <td>100.435644</td>\n",
              "      <td>30.562307</td>\n",
              "      <td>100.114311</td>\n",
              "      <td>17.083540</td>\n",
              "      <td>100.107711</td>\n",
              "      <td>9.039325</td>\n",
              "      <td>4.479448</td>\n",
              "      <td>2.764581</td>\n",
              "      <td>437.182418</td>\n",
              "    </tr>\n",
              "    <tr>\n",
              "      <th>std</th>\n",
              "      <td>39.822106</td>\n",
              "      <td>13.688365</td>\n",
              "      <td>54.467389</td>\n",
              "      <td>50.713844</td>\n",
              "      <td>50.573847</td>\n",
              "      <td>2.791840</td>\n",
              "      <td>1.315491</td>\n",
              "      <td>20.069084</td>\n",
              "      <td>9.259435</td>\n",
              "      <td>19.922625</td>\n",
              "      <td>4.310668</td>\n",
              "      <td>19.568609</td>\n",
              "      <td>2.275873</td>\n",
              "      <td>2.461214</td>\n",
              "      <td>0.753773</td>\n",
              "      <td>42.371290</td>\n",
              "    </tr>\n",
              "    <tr>\n",
              "      <th>min</th>\n",
              "      <td>1.000000</td>\n",
              "      <td>0.000000</td>\n",
              "      <td>0.000000</td>\n",
              "      <td>0.000000</td>\n",
              "      <td>23.200000</td>\n",
              "      <td>0.000000</td>\n",
              "      <td>0.000000</td>\n",
              "      <td>0.000000</td>\n",
              "      <td>0.000000</td>\n",
              "      <td>0.000000</td>\n",
              "      <td>0.000000</td>\n",
              "      <td>33.000000</td>\n",
              "      <td>1.040000</td>\n",
              "      <td>0.000000</td>\n",
              "      <td>0.000000</td>\n",
              "      <td>408.000000</td>\n",
              "    </tr>\n",
              "    <tr>\n",
              "      <th>25%</th>\n",
              "      <td>74.000000</td>\n",
              "      <td>0.000000</td>\n",
              "      <td>143.700000</td>\n",
              "      <td>166.600000</td>\n",
              "      <td>167.000000</td>\n",
              "      <td>8.500000</td>\n",
              "      <td>1.000000</td>\n",
              "      <td>87.000000</td>\n",
              "      <td>24.430000</td>\n",
              "      <td>87.000000</td>\n",
              "      <td>14.160000</td>\n",
              "      <td>87.000000</td>\n",
              "      <td>7.520000</td>\n",
              "      <td>3.000000</td>\n",
              "      <td>2.300000</td>\n",
              "      <td>408.000000</td>\n",
              "    </tr>\n",
              "    <tr>\n",
              "      <th>50%</th>\n",
              "      <td>101.000000</td>\n",
              "      <td>0.000000</td>\n",
              "      <td>179.400000</td>\n",
              "      <td>201.400000</td>\n",
              "      <td>201.200000</td>\n",
              "      <td>10.300000</td>\n",
              "      <td>1.000000</td>\n",
              "      <td>101.000000</td>\n",
              "      <td>30.500000</td>\n",
              "      <td>100.000000</td>\n",
              "      <td>17.120000</td>\n",
              "      <td>100.000000</td>\n",
              "      <td>9.050000</td>\n",
              "      <td>4.000000</td>\n",
              "      <td>2.780000</td>\n",
              "      <td>415.000000</td>\n",
              "    </tr>\n",
              "    <tr>\n",
              "      <th>75%</th>\n",
              "      <td>127.000000</td>\n",
              "      <td>20.000000</td>\n",
              "      <td>216.400000</td>\n",
              "      <td>235.300000</td>\n",
              "      <td>235.300000</td>\n",
              "      <td>12.100000</td>\n",
              "      <td>2.000000</td>\n",
              "      <td>114.000000</td>\n",
              "      <td>36.790000</td>\n",
              "      <td>114.000000</td>\n",
              "      <td>20.000000</td>\n",
              "      <td>113.000000</td>\n",
              "      <td>10.590000</td>\n",
              "      <td>6.000000</td>\n",
              "      <td>3.270000</td>\n",
              "      <td>510.000000</td>\n",
              "    </tr>\n",
              "    <tr>\n",
              "      <th>max</th>\n",
              "      <td>243.000000</td>\n",
              "      <td>51.000000</td>\n",
              "      <td>350.800000</td>\n",
              "      <td>363.700000</td>\n",
              "      <td>395.000000</td>\n",
              "      <td>20.000000</td>\n",
              "      <td>9.000000</td>\n",
              "      <td>165.000000</td>\n",
              "      <td>59.640000</td>\n",
              "      <td>170.000000</td>\n",
              "      <td>30.910000</td>\n",
              "      <td>175.000000</td>\n",
              "      <td>17.770000</td>\n",
              "      <td>20.000000</td>\n",
              "      <td>5.400000</td>\n",
              "      <td>510.000000</td>\n",
              "    </tr>\n",
              "  </tbody>\n",
              "</table>\n",
              "</div>"
            ],
            "text/plain": [
              "       Account_Length  Vmail_Message  ...  Intl_Charge    Area_Code\n",
              "count     3333.000000    3333.000000  ...  3333.000000  3333.000000\n",
              "mean       101.064806       8.099010  ...     2.764581   437.182418\n",
              "std         39.822106      13.688365  ...     0.753773    42.371290\n",
              "min          1.000000       0.000000  ...     0.000000   408.000000\n",
              "25%         74.000000       0.000000  ...     2.300000   408.000000\n",
              "50%        101.000000       0.000000  ...     2.780000   415.000000\n",
              "75%        127.000000      20.000000  ...     3.270000   510.000000\n",
              "max        243.000000      51.000000  ...     5.400000   510.000000\n",
              "\n",
              "[8 rows x 16 columns]"
            ]
          },
          "metadata": {
            "tags": []
          },
          "execution_count": 5
        }
      ]
    },
    {
      "cell_type": "code",
      "metadata": {
        "id": "yVkl8mcoIAGw",
        "colab_type": "code",
        "outputId": "5a2cdddd-3e0d-4ceb-e0c1-2115dab83127",
        "colab": {
          "base_uri": "https://localhost:8080/",
          "height": 119
        }
      },
      "source": [
        "# View all columns of the data \n",
        "data.columns"
      ],
      "execution_count": 6,
      "outputs": [
        {
          "output_type": "execute_result",
          "data": {
            "text/plain": [
              "Index(['Account_Length', 'Vmail_Message', 'Day_Mins', 'Eve_Mins', 'Night_Mins',\n",
              "       'Intl_Mins', 'CustServ_Calls', 'Churn', 'Intl_Plan', 'Vmail_Plan',\n",
              "       'Day_Calls', 'Day_Charge', 'Eve_Calls', 'Eve_Charge', 'Night_Calls',\n",
              "       'Night_Charge', 'Intl_Calls', 'Intl_Charge', 'State', 'Area_Code',\n",
              "       'Phone'],\n",
              "      dtype='object')"
            ]
          },
          "metadata": {
            "tags": []
          },
          "execution_count": 6
        }
      ]
    },
    {
      "cell_type": "code",
      "metadata": {
        "id": "QJm5YbOiAM0o",
        "colab_type": "code",
        "outputId": "9b1806c7-2f0b-4427-d01d-8a4c3bedccc4",
        "colab": {
          "base_uri": "https://localhost:8080/",
          "height": 493
        }
      },
      "source": [
        "#Get an overview of data - check numerical and categorical values\n",
        "data.info()"
      ],
      "execution_count": 7,
      "outputs": [
        {
          "output_type": "stream",
          "text": [
            "<class 'pandas.core.frame.DataFrame'>\n",
            "RangeIndex: 3333 entries, 0 to 3332\n",
            "Data columns (total 21 columns):\n",
            " #   Column          Non-Null Count  Dtype  \n",
            "---  ------          --------------  -----  \n",
            " 0   Account_Length  3333 non-null   int64  \n",
            " 1   Vmail_Message   3333 non-null   int64  \n",
            " 2   Day_Mins        3333 non-null   float64\n",
            " 3   Eve_Mins        3333 non-null   float64\n",
            " 4   Night_Mins      3333 non-null   float64\n",
            " 5   Intl_Mins       3333 non-null   float64\n",
            " 6   CustServ_Calls  3333 non-null   int64  \n",
            " 7   Churn           3333 non-null   object \n",
            " 8   Intl_Plan       3333 non-null   object \n",
            " 9   Vmail_Plan      3333 non-null   object \n",
            " 10  Day_Calls       3333 non-null   int64  \n",
            " 11  Day_Charge      3333 non-null   float64\n",
            " 12  Eve_Calls       3333 non-null   int64  \n",
            " 13  Eve_Charge      3333 non-null   float64\n",
            " 14  Night_Calls     3333 non-null   int64  \n",
            " 15  Night_Charge    3333 non-null   float64\n",
            " 16  Intl_Calls      3333 non-null   int64  \n",
            " 17  Intl_Charge     3333 non-null   float64\n",
            " 18  State           3333 non-null   object \n",
            " 19  Area_Code       3333 non-null   int64  \n",
            " 20  Phone           3333 non-null   object \n",
            "dtypes: float64(8), int64(8), object(5)\n",
            "memory usage: 546.9+ KB\n"
          ],
          "name": "stdout"
        }
      ]
    },
    {
      "cell_type": "code",
      "metadata": {
        "id": "F7boV5ahIgLv",
        "colab_type": "code",
        "outputId": "e09eadf0-7535-42d6-c48d-3bcb230ab366",
        "colab": {
          "base_uri": "https://localhost:8080/",
          "height": 34
        }
      },
      "source": [
        "#Check for duplicates\n",
        "data.duplicated().sum()"
      ],
      "execution_count": 8,
      "outputs": [
        {
          "output_type": "execute_result",
          "data": {
            "text/plain": [
              "0"
            ]
          },
          "metadata": {
            "tags": []
          },
          "execution_count": 8
        }
      ]
    },
    {
      "cell_type": "markdown",
      "metadata": {
        "id": "fMAsV6rCImdl",
        "colab_type": "text"
      },
      "source": [
        "\n",
        "\n",
        "```\n",
        "# Luckily there are no duplicates in the data\n",
        "```\n",
        "\n"
      ]
    },
    {
      "cell_type": "code",
      "metadata": {
        "id": "8fSJAeX9ItqY",
        "colab_type": "code",
        "outputId": "e49ded82-31eb-4ce8-8332-fc90ec94e414",
        "colab": {
          "base_uri": "https://localhost:8080/",
          "height": 391
        }
      },
      "source": [
        "# Check for null values \n",
        "data.isnull().sum()"
      ],
      "execution_count": 9,
      "outputs": [
        {
          "output_type": "execute_result",
          "data": {
            "text/plain": [
              "Account_Length    0\n",
              "Vmail_Message     0\n",
              "Day_Mins          0\n",
              "Eve_Mins          0\n",
              "Night_Mins        0\n",
              "Intl_Mins         0\n",
              "CustServ_Calls    0\n",
              "Churn             0\n",
              "Intl_Plan         0\n",
              "Vmail_Plan        0\n",
              "Day_Calls         0\n",
              "Day_Charge        0\n",
              "Eve_Calls         0\n",
              "Eve_Charge        0\n",
              "Night_Calls       0\n",
              "Night_Charge      0\n",
              "Intl_Calls        0\n",
              "Intl_Charge       0\n",
              "State             0\n",
              "Area_Code         0\n",
              "Phone             0\n",
              "dtype: int64"
            ]
          },
          "metadata": {
            "tags": []
          },
          "execution_count": 9
        }
      ]
    },
    {
      "cell_type": "code",
      "metadata": {
        "id": "XzWOz3gUAnEK",
        "colab_type": "code",
        "outputId": "aedd8a7d-2e17-42d2-887b-a0b1f06905b8",
        "colab": {
          "base_uri": "https://localhost:8080/",
          "height": 68
        }
      },
      "source": [
        "#Count number of churners and non-churners \n",
        "data['Churn'].value_counts()"
      ],
      "execution_count": 10,
      "outputs": [
        {
          "output_type": "execute_result",
          "data": {
            "text/plain": [
              "no     2850\n",
              "yes     483\n",
              "Name: Churn, dtype: int64"
            ]
          },
          "metadata": {
            "tags": []
          },
          "execution_count": 10
        }
      ]
    },
    {
      "cell_type": "code",
      "metadata": {
        "id": "snYE33slBOg5",
        "colab_type": "code",
        "outputId": "f75cfc0a-1d2b-42ea-c89f-2e950184ee4a",
        "colab": {
          "base_uri": "https://localhost:8080/",
          "height": 162
        }
      },
      "source": [
        "#Summary statistics for churners and non-churners\n",
        "\"\"\"groupby is essentially helpful when one wants to investigate specific columns \"\"\" \n",
        "data.groupby(['Churn']).mean()"
      ],
      "execution_count": 11,
      "outputs": [
        {
          "output_type": "execute_result",
          "data": {
            "text/html": [
              "<div>\n",
              "<style scoped>\n",
              "    .dataframe tbody tr th:only-of-type {\n",
              "        vertical-align: middle;\n",
              "    }\n",
              "\n",
              "    .dataframe tbody tr th {\n",
              "        vertical-align: top;\n",
              "    }\n",
              "\n",
              "    .dataframe thead th {\n",
              "        text-align: right;\n",
              "    }\n",
              "</style>\n",
              "<table border=\"1\" class=\"dataframe\">\n",
              "  <thead>\n",
              "    <tr style=\"text-align: right;\">\n",
              "      <th></th>\n",
              "      <th>Account_Length</th>\n",
              "      <th>Vmail_Message</th>\n",
              "      <th>Day_Mins</th>\n",
              "      <th>Eve_Mins</th>\n",
              "      <th>Night_Mins</th>\n",
              "      <th>Intl_Mins</th>\n",
              "      <th>CustServ_Calls</th>\n",
              "      <th>Day_Calls</th>\n",
              "      <th>Day_Charge</th>\n",
              "      <th>Eve_Calls</th>\n",
              "      <th>Eve_Charge</th>\n",
              "      <th>Night_Calls</th>\n",
              "      <th>Night_Charge</th>\n",
              "      <th>Intl_Calls</th>\n",
              "      <th>Intl_Charge</th>\n",
              "      <th>Area_Code</th>\n",
              "    </tr>\n",
              "    <tr>\n",
              "      <th>Churn</th>\n",
              "      <th></th>\n",
              "      <th></th>\n",
              "      <th></th>\n",
              "      <th></th>\n",
              "      <th></th>\n",
              "      <th></th>\n",
              "      <th></th>\n",
              "      <th></th>\n",
              "      <th></th>\n",
              "      <th></th>\n",
              "      <th></th>\n",
              "      <th></th>\n",
              "      <th></th>\n",
              "      <th></th>\n",
              "      <th></th>\n",
              "      <th></th>\n",
              "    </tr>\n",
              "  </thead>\n",
              "  <tbody>\n",
              "    <tr>\n",
              "      <th>no</th>\n",
              "      <td>100.793684</td>\n",
              "      <td>8.604561</td>\n",
              "      <td>175.175754</td>\n",
              "      <td>199.043298</td>\n",
              "      <td>200.133193</td>\n",
              "      <td>10.158877</td>\n",
              "      <td>1.449825</td>\n",
              "      <td>100.283158</td>\n",
              "      <td>29.780421</td>\n",
              "      <td>100.038596</td>\n",
              "      <td>16.918909</td>\n",
              "      <td>100.058246</td>\n",
              "      <td>9.006074</td>\n",
              "      <td>4.532982</td>\n",
              "      <td>2.743404</td>\n",
              "      <td>437.074737</td>\n",
              "    </tr>\n",
              "    <tr>\n",
              "      <th>yes</th>\n",
              "      <td>102.664596</td>\n",
              "      <td>5.115942</td>\n",
              "      <td>206.914079</td>\n",
              "      <td>212.410145</td>\n",
              "      <td>205.231677</td>\n",
              "      <td>10.700000</td>\n",
              "      <td>2.229814</td>\n",
              "      <td>101.335404</td>\n",
              "      <td>35.175921</td>\n",
              "      <td>100.561077</td>\n",
              "      <td>18.054969</td>\n",
              "      <td>100.399586</td>\n",
              "      <td>9.235528</td>\n",
              "      <td>4.163561</td>\n",
              "      <td>2.889545</td>\n",
              "      <td>437.817805</td>\n",
              "    </tr>\n",
              "  </tbody>\n",
              "</table>\n",
              "</div>"
            ],
            "text/plain": [
              "       Account_Length  Vmail_Message  ...  Intl_Charge   Area_Code\n",
              "Churn                                 ...                         \n",
              "no         100.793684       8.604561  ...     2.743404  437.074737\n",
              "yes        102.664596       5.115942  ...     2.889545  437.817805\n",
              "\n",
              "[2 rows x 16 columns]"
            ]
          },
          "metadata": {
            "tags": []
          },
          "execution_count": 11
        }
      ]
    },
    {
      "cell_type": "code",
      "metadata": {
        "id": "11dKN8fOC4bC",
        "colab_type": "code",
        "outputId": "8890c07d-8a04-42e6-dda7-ca0829f10121",
        "colab": {
          "base_uri": "https://localhost:8080/",
          "height": 162
        }
      },
      "source": [
        "data.groupby(['Churn']).std()"
      ],
      "execution_count": 12,
      "outputs": [
        {
          "output_type": "execute_result",
          "data": {
            "text/html": [
              "<div>\n",
              "<style scoped>\n",
              "    .dataframe tbody tr th:only-of-type {\n",
              "        vertical-align: middle;\n",
              "    }\n",
              "\n",
              "    .dataframe tbody tr th {\n",
              "        vertical-align: top;\n",
              "    }\n",
              "\n",
              "    .dataframe thead th {\n",
              "        text-align: right;\n",
              "    }\n",
              "</style>\n",
              "<table border=\"1\" class=\"dataframe\">\n",
              "  <thead>\n",
              "    <tr style=\"text-align: right;\">\n",
              "      <th></th>\n",
              "      <th>Account_Length</th>\n",
              "      <th>Vmail_Message</th>\n",
              "      <th>Day_Mins</th>\n",
              "      <th>Eve_Mins</th>\n",
              "      <th>Night_Mins</th>\n",
              "      <th>Intl_Mins</th>\n",
              "      <th>CustServ_Calls</th>\n",
              "      <th>Day_Calls</th>\n",
              "      <th>Day_Charge</th>\n",
              "      <th>Eve_Calls</th>\n",
              "      <th>Eve_Charge</th>\n",
              "      <th>Night_Calls</th>\n",
              "      <th>Night_Charge</th>\n",
              "      <th>Intl_Calls</th>\n",
              "      <th>Intl_Charge</th>\n",
              "      <th>Area_Code</th>\n",
              "    </tr>\n",
              "    <tr>\n",
              "      <th>Churn</th>\n",
              "      <th></th>\n",
              "      <th></th>\n",
              "      <th></th>\n",
              "      <th></th>\n",
              "      <th></th>\n",
              "      <th></th>\n",
              "      <th></th>\n",
              "      <th></th>\n",
              "      <th></th>\n",
              "      <th></th>\n",
              "      <th></th>\n",
              "      <th></th>\n",
              "      <th></th>\n",
              "      <th></th>\n",
              "      <th></th>\n",
              "      <th></th>\n",
              "    </tr>\n",
              "  </thead>\n",
              "  <tbody>\n",
              "    <tr>\n",
              "      <th>no</th>\n",
              "      <td>39.88235</td>\n",
              "      <td>13.913125</td>\n",
              "      <td>50.181655</td>\n",
              "      <td>50.292175</td>\n",
              "      <td>51.105032</td>\n",
              "      <td>2.784489</td>\n",
              "      <td>1.163883</td>\n",
              "      <td>19.801157</td>\n",
              "      <td>8.530835</td>\n",
              "      <td>19.958414</td>\n",
              "      <td>4.274863</td>\n",
              "      <td>19.506246</td>\n",
              "      <td>2.299768</td>\n",
              "      <td>2.441984</td>\n",
              "      <td>0.751784</td>\n",
              "      <td>42.306156</td>\n",
              "    </tr>\n",
              "    <tr>\n",
              "      <th>yes</th>\n",
              "      <td>39.46782</td>\n",
              "      <td>11.860138</td>\n",
              "      <td>68.997792</td>\n",
              "      <td>51.728910</td>\n",
              "      <td>47.132825</td>\n",
              "      <td>2.793190</td>\n",
              "      <td>1.853275</td>\n",
              "      <td>21.582307</td>\n",
              "      <td>11.729710</td>\n",
              "      <td>19.724711</td>\n",
              "      <td>4.396762</td>\n",
              "      <td>19.950659</td>\n",
              "      <td>2.121081</td>\n",
              "      <td>2.551575</td>\n",
              "      <td>0.754152</td>\n",
              "      <td>42.792270</td>\n",
              "    </tr>\n",
              "  </tbody>\n",
              "</table>\n",
              "</div>"
            ],
            "text/plain": [
              "       Account_Length  Vmail_Message  ...  Intl_Charge  Area_Code\n",
              "Churn                                 ...                        \n",
              "no           39.88235      13.913125  ...     0.751784  42.306156\n",
              "yes          39.46782      11.860138  ...     0.754152  42.792270\n",
              "\n",
              "[2 rows x 16 columns]"
            ]
          },
          "metadata": {
            "tags": []
          },
          "execution_count": 12
        }
      ]
    },
    {
      "cell_type": "markdown",
      "metadata": {
        "id": "H2iVEj6jFsTQ",
        "colab_type": "text"
      },
      "source": [
        "\n",
        "\n",
        "```\n",
        "# Here you may see the churners have  more  customer service calls as compared to non-churners. \n",
        "```\n",
        "\n",
        " "
      ]
    },
    {
      "cell_type": "code",
      "metadata": {
        "id": "8cuzjvFAFODy",
        "colab_type": "code",
        "outputId": "41260ba4-0520-46db-ba15-c8d0ccb19319",
        "colab": {
          "base_uri": "https://localhost:8080/",
          "height": 238
        }
      },
      "source": [
        "# Group data by state to see trend in churn \n",
        "print(data.groupby('State')['Churn'].value_counts())"
      ],
      "execution_count": 13,
      "outputs": [
        {
          "output_type": "stream",
          "text": [
            "State  Churn\n",
            "AK     no       49\n",
            "       yes       3\n",
            "AL     no       72\n",
            "       yes       8\n",
            "AR     no       44\n",
            "                ..\n",
            "WI     yes       7\n",
            "WV     no       96\n",
            "       yes      10\n",
            "WY     no       68\n",
            "       yes       9\n",
            "Name: Churn, Length: 102, dtype: int64\n"
          ],
          "name": "stdout"
        }
      ]
    },
    {
      "cell_type": "markdown",
      "metadata": {
        "id": "el8md93RKH3X",
        "colab_type": "text"
      },
      "source": [
        "## Exploring through visualizations "
      ]
    },
    {
      "cell_type": "code",
      "metadata": {
        "id": "1riJv0CPGj4z",
        "colab_type": "code",
        "outputId": "8ea9ab5f-0088-4ecd-9dd4-51276a8aca57",
        "colab": {
          "base_uri": "https://localhost:8080/",
          "height": 71
        }
      },
      "source": [
        "#Import libraries for visualization \n",
        "import matplotlib.pyplot as plt\n",
        "%matplotlib inline\n",
        "import seaborn as sns"
      ],
      "execution_count": 14,
      "outputs": [
        {
          "output_type": "stream",
          "text": [
            "/usr/local/lib/python3.6/dist-packages/statsmodels/tools/_testing.py:19: FutureWarning: pandas.util.testing is deprecated. Use the functions in the public API at pandas.testing instead.\n",
            "  import pandas.util.testing as tm\n"
          ],
          "name": "stderr"
        }
      ]
    },
    {
      "cell_type": "code",
      "metadata": {
        "id": "htjcYqAGKUEC",
        "colab_type": "code",
        "outputId": "ddb0a18b-3910-4ae8-f429-11effb18e509",
        "colab": {
          "base_uri": "https://localhost:8080/",
          "height": 280
        }
      },
      "source": [
        "sns.distplot(data['Account_Length'])\n",
        "plt.show()"
      ],
      "execution_count": 15,
      "outputs": [
        {
          "output_type": "display_data",
          "data": {
            "image/png": "[encoded data removed]",
            "text/plain": [
              "<Figure size 432x288 with 1 Axes>"
            ]
          },
          "metadata": {
            "tags": [],
            "needs_background": "light"
          }
        }
      ]
    },
    {
      "cell_type": "markdown",
      "metadata": {
        "id": "FU5F0LFrKqwn",
        "colab_type": "text"
      },
      "source": [
        "\n",
        "\n",
        "```\n",
        "It shows bell curve which is actually a normal distribution. \n",
        "```\n",
        "\n"
      ]
    },
    {
      "cell_type": "code",
      "metadata": {
        "id": "vDeDFUFkKcYU",
        "colab_type": "code",
        "outputId": "e1ee8a81-5482-4346-bfa9-c53e4a4bec16",
        "colab": {
          "base_uri": "https://localhost:8080/",
          "height": 296
        }
      },
      "source": [
        "sns.boxplot(x='Churn' , y='Account_Length' , data=data)"
      ],
      "execution_count": 16,
      "outputs": [
        {
          "output_type": "execute_result",
          "data": {
            "text/plain": [
              "<matplotlib.axes._subplots.AxesSubplot at 0x7f7c37a8b2e8>"
            ]
          },
          "metadata": {
            "tags": []
          },
          "execution_count": 16
        },
        {
          "output_type": "display_data",
          "data": {
            "image/png": "[encoded data removed]",
            "text/plain": [
              "<Figure size 432x288 with 1 Axes>"
            ]
          },
          "metadata": {
            "tags": [],
            "needs_background": "light"
          }
        }
      ]
    },
    {
      "cell_type": "markdown",
      "metadata": {
        "id": "w9zin_zTLLUm",
        "colab_type": "text"
      },
      "source": [
        "\n",
        "\n",
        "```\n",
        "Still there is no noticeable difference between churners and non-churners' account length. \n",
        "```\n",
        "\n",
        "The outliers can be removed by sym parameter here. "
      ]
    },
    {
      "cell_type": "code",
      "metadata": {
        "id": "4gODHl6RLHvS",
        "colab_type": "code",
        "outputId": "76ddfe8d-ecbd-41df-bded-bea9017b54c5",
        "colab": {
          "base_uri": "https://localhost:8080/",
          "height": 296
        }
      },
      "source": [
        "## View without outliers \n",
        "sns.boxplot(x='Churn' , y='Account_Length' , data=data , sym='')"
      ],
      "execution_count": 17,
      "outputs": [
        {
          "output_type": "execute_result",
          "data": {
            "text/plain": [
              "<matplotlib.axes._subplots.AxesSubplot at 0x7f7c425267f0>"
            ]
          },
          "metadata": {
            "tags": []
          },
          "execution_count": 17
        },
        {
          "output_type": "display_data",
          "data": {
            "image/png": "[encoded data removed]",
            "text/plain": [
              "<Figure size 432x288 with 1 Axes>"
            ]
          },
          "metadata": {
            "tags": [],
            "needs_background": "light"
          }
        }
      ]
    },
    {
      "cell_type": "code",
      "metadata": {
        "id": "_9YjmBbELpQ4",
        "colab_type": "code",
        "outputId": "75568204-c7f8-46d8-a104-6ab658dd9a89",
        "colab": {
          "base_uri": "https://localhost:8080/",
          "height": 296
        }
      },
      "source": [
        "## Adding another variable \n",
        "sns.boxplot(x='Churn' , y='Account_Length' , hue ='Intl_Plan' , data=data)"
      ],
      "execution_count": 18,
      "outputs": [
        {
          "output_type": "execute_result",
          "data": {
            "text/plain": [
              "<matplotlib.axes._subplots.AxesSubplot at 0x7f7c374ebe10>"
            ]
          },
          "metadata": {
            "tags": []
          },
          "execution_count": 18
        },
        {
          "output_type": "display_data",
          "data": {
            "image/png": "[encoded data removed]",
            "text/plain": [
              "<Figure size 432x288 with 1 Axes>"
            ]
          },
          "metadata": {
            "tags": [],
            "needs_background": "light"
          }
        }
      ]
    },
    {
      "cell_type": "code",
      "metadata": {
        "id": "xgXrRdVPL2y_",
        "colab_type": "code",
        "outputId": "4b64e836-e1bf-452b-a137-cf140b33718a",
        "colab": {
          "base_uri": "https://localhost:8080/",
          "height": 297
        }
      },
      "source": [
        "sns.distplot(data['Day_Mins'])"
      ],
      "execution_count": 19,
      "outputs": [
        {
          "output_type": "execute_result",
          "data": {
            "text/plain": [
              "<matplotlib.axes._subplots.AxesSubplot at 0x7f7c37501f98>"
            ]
          },
          "metadata": {
            "tags": []
          },
          "execution_count": 19
        },
        {
          "output_type": "display_data",
          "data": {
            "image/png": "[encoded data removed]",
            "text/plain": [
              "<Figure size 432x288 with 1 Axes>"
            ]
          },
          "metadata": {
            "tags": [],
            "needs_background": "light"
          }
        }
      ]
    },
    {
      "cell_type": "code",
      "metadata": {
        "id": "oLGpSxojMMWs",
        "colab_type": "code",
        "outputId": "0e9618a3-7d54-402a-e902-4241a300696b",
        "colab": {
          "base_uri": "https://localhost:8080/",
          "height": 297
        }
      },
      "source": [
        "sns.distplot(data['Eve_Mins'])"
      ],
      "execution_count": 20,
      "outputs": [
        {
          "output_type": "execute_result",
          "data": {
            "text/plain": [
              "<matplotlib.axes._subplots.AxesSubplot at 0x7f7c37327c18>"
            ]
          },
          "metadata": {
            "tags": []
          },
          "execution_count": 20
        },
        {
          "output_type": "display_data",
          "data": {
            "image/png": "[encoded data removed]",
            "text/plain": [
              "<Figure size 432x288 with 1 Axes>"
            ]
          },
          "metadata": {
            "tags": [],
            "needs_background": "light"
          }
        }
      ]
    },
    {
      "cell_type": "code",
      "metadata": {
        "id": "LnI6R9CRMWm7",
        "colab_type": "code",
        "outputId": "b9d29241-e772-4fa4-a584-442c241e89e8",
        "colab": {
          "base_uri": "https://localhost:8080/",
          "height": 297
        }
      },
      "source": [
        "sns.distplot(data['Night_Mins'])"
      ],
      "execution_count": 21,
      "outputs": [
        {
          "output_type": "execute_result",
          "data": {
            "text/plain": [
              "<matplotlib.axes._subplots.AxesSubplot at 0x7f7c3726c128>"
            ]
          },
          "metadata": {
            "tags": []
          },
          "execution_count": 21
        },
        {
          "output_type": "display_data",
          "data": {
            "image/png": "[encoded data removed]",
            "text/plain": [
              "<Figure size 432x288 with 1 Axes>"
            ]
          },
          "metadata": {
            "tags": [],
            "needs_background": "light"
          }
        }
      ]
    },
    {
      "cell_type": "code",
      "metadata": {
        "id": "S46FUUDnMcoV",
        "colab_type": "code",
        "outputId": "800f7c9b-10fc-45ba-aae7-33db50602b95",
        "colab": {
          "base_uri": "https://localhost:8080/",
          "height": 297
        }
      },
      "source": [
        "sns.distplot(data['Intl_Mins'])"
      ],
      "execution_count": 22,
      "outputs": [
        {
          "output_type": "execute_result",
          "data": {
            "text/plain": [
              "<matplotlib.axes._subplots.AxesSubplot at 0x7f7c37140160>"
            ]
          },
          "metadata": {
            "tags": []
          },
          "execution_count": 22
        },
        {
          "output_type": "display_data",
          "data": {
            "image/png": "[encoded data removed]",
            "text/plain": [
              "<Figure size 432x288 with 1 Axes>"
            ]
          },
          "metadata": {
            "tags": [],
            "needs_background": "light"
          }
        }
      ]
    },
    {
      "cell_type": "markdown",
      "metadata": {
        "id": "9yfEjBLEMrLZ",
        "colab_type": "text"
      },
      "source": [
        "\n",
        "\n",
        "```\n",
        "These features show almost the normal distribution\n",
        "```\n",
        "We'll try combining more features.\n"
      ]
    },
    {
      "cell_type": "code",
      "metadata": {
        "id": "qtXd-2vMMleO",
        "colab_type": "code",
        "outputId": "f8991135-3290-4eab-8553-b074e3aea0b8",
        "colab": {
          "base_uri": "https://localhost:8080/",
          "height": 296
        }
      },
      "source": [
        "sns.boxplot(x='Churn', y='CustServ_Calls' , data=data)"
      ],
      "execution_count": 23,
      "outputs": [
        {
          "output_type": "execute_result",
          "data": {
            "text/plain": [
              "<matplotlib.axes._subplots.AxesSubplot at 0x7f7c370f2cf8>"
            ]
          },
          "metadata": {
            "tags": []
          },
          "execution_count": 23
        },
        {
          "output_type": "display_data",
          "data": {
            "image/png": "[encoded data removed]",
            "text/plain": [
              "<Figure size 432x288 with 1 Axes>"
            ]
          },
          "metadata": {
            "tags": [],
            "needs_background": "light"
          }
        }
      ]
    },
    {
      "cell_type": "markdown",
      "metadata": {
        "id": "_pOI6WOLNYkZ",
        "colab_type": "text"
      },
      "source": [
        "*Now this is a noticeable difference.*"
      ]
    },
    {
      "cell_type": "code",
      "metadata": {
        "id": "n2l_kBfbNNLQ",
        "colab_type": "code",
        "outputId": "c7c48bf0-6602-48fe-e971-2234e4df85f2",
        "colab": {
          "base_uri": "https://localhost:8080/",
          "height": 296
        }
      },
      "source": [
        "\n",
        "sns.boxplot(x='Churn', y='CustServ_Calls' , hue='Vmail_Plan', data=data)"
      ],
      "execution_count": 24,
      "outputs": [
        {
          "output_type": "execute_result",
          "data": {
            "text/plain": [
              "<matplotlib.axes._subplots.AxesSubplot at 0x7f7c37076ac8>"
            ]
          },
          "metadata": {
            "tags": []
          },
          "execution_count": 24
        },
        {
          "output_type": "display_data",
          "data": {
            "image/png": "[encoded data removed]",
            "text/plain": [
              "<Figure size 432x288 with 1 Axes>"
            ]
          },
          "metadata": {
            "tags": [],
            "needs_background": "light"
          }
        }
      ]
    },
    {
      "cell_type": "code",
      "metadata": {
        "id": "FefAJm5VNzuK",
        "colab_type": "code",
        "outputId": "3915415e-da78-4218-acc9-c162137e7864",
        "colab": {
          "base_uri": "https://localhost:8080/",
          "height": 296
        }
      },
      "source": [
        "sns.boxplot(x='Churn', y='CustServ_Calls' , hue='Intl_Plan', data=data)"
      ],
      "execution_count": 25,
      "outputs": [
        {
          "output_type": "execute_result",
          "data": {
            "text/plain": [
              "<matplotlib.axes._subplots.AxesSubplot at 0x7f7c36f911d0>"
            ]
          },
          "metadata": {
            "tags": []
          },
          "execution_count": 25
        },
        {
          "output_type": "display_data",
          "data": {
            "image/png": "[encoded data removed]",
            "text/plain": [
              "<Figure size 432x288 with 1 Axes>"
            ]
          },
          "metadata": {
            "tags": [],
            "needs_background": "light"
          }
        }
      ]
    },
    {
      "cell_type": "markdown",
      "metadata": {
        "id": "hezIPunYOVwN",
        "colab_type": "text"
      },
      "source": [
        "\n",
        "\n",
        "```\n",
        "Churners make more Customer service calls and rely on international plans as well. \n",
        "```\n",
        "\n"
      ]
    },
    {
      "cell_type": "markdown",
      "metadata": {
        "id": "bleabFvsPUhT",
        "colab_type": "text"
      },
      "source": [
        "## Data Preprocessing"
      ]
    },
    {
      "cell_type": "code",
      "metadata": {
        "id": "zUNkxoXB_CwN",
        "colab_type": "code",
        "outputId": "98cdaf7e-d037-4e02-a094-50c4b8b947f7",
        "colab": {
          "base_uri": "https://localhost:8080/",
          "height": 565
        }
      },
      "source": [
        "\n",
        "## Check highly correlated features\n",
        "data.corr()"
      ],
      "execution_count": 26,
      "outputs": [
        {
          "output_type": "execute_result",
          "data": {
            "text/html": [
              "<div>\n",
              "<style scoped>\n",
              "    .dataframe tbody tr th:only-of-type {\n",
              "        vertical-align: middle;\n",
              "    }\n",
              "\n",
              "    .dataframe tbody tr th {\n",
              "        vertical-align: top;\n",
              "    }\n",
              "\n",
              "    .dataframe thead th {\n",
              "        text-align: right;\n",
              "    }\n",
              "</style>\n",
              "<table border=\"1\" class=\"dataframe\">\n",
              "  <thead>\n",
              "    <tr style=\"text-align: right;\">\n",
              "      <th></th>\n",
              "      <th>Account_Length</th>\n",
              "      <th>Vmail_Message</th>\n",
              "      <th>Day_Mins</th>\n",
              "      <th>Eve_Mins</th>\n",
              "      <th>Night_Mins</th>\n",
              "      <th>Intl_Mins</th>\n",
              "      <th>CustServ_Calls</th>\n",
              "      <th>Day_Calls</th>\n",
              "      <th>Day_Charge</th>\n",
              "      <th>Eve_Calls</th>\n",
              "      <th>Eve_Charge</th>\n",
              "      <th>Night_Calls</th>\n",
              "      <th>Night_Charge</th>\n",
              "      <th>Intl_Calls</th>\n",
              "      <th>Intl_Charge</th>\n",
              "      <th>Area_Code</th>\n",
              "    </tr>\n",
              "  </thead>\n",
              "  <tbody>\n",
              "    <tr>\n",
              "      <th>Account_Length</th>\n",
              "      <td>1.000000</td>\n",
              "      <td>-0.004628</td>\n",
              "      <td>0.006216</td>\n",
              "      <td>-0.006757</td>\n",
              "      <td>-0.008955</td>\n",
              "      <td>0.009514</td>\n",
              "      <td>-0.003796</td>\n",
              "      <td>0.038470</td>\n",
              "      <td>0.006214</td>\n",
              "      <td>0.019260</td>\n",
              "      <td>-0.006745</td>\n",
              "      <td>-0.013176</td>\n",
              "      <td>-0.008960</td>\n",
              "      <td>0.020661</td>\n",
              "      <td>0.009546</td>\n",
              "      <td>-0.012463</td>\n",
              "    </tr>\n",
              "    <tr>\n",
              "      <th>Vmail_Message</th>\n",
              "      <td>-0.004628</td>\n",
              "      <td>1.000000</td>\n",
              "      <td>0.000778</td>\n",
              "      <td>0.017562</td>\n",
              "      <td>0.007681</td>\n",
              "      <td>0.002856</td>\n",
              "      <td>-0.013263</td>\n",
              "      <td>-0.009548</td>\n",
              "      <td>0.000776</td>\n",
              "      <td>-0.005864</td>\n",
              "      <td>0.017578</td>\n",
              "      <td>0.007123</td>\n",
              "      <td>0.007663</td>\n",
              "      <td>0.013957</td>\n",
              "      <td>0.002884</td>\n",
              "      <td>-0.001994</td>\n",
              "    </tr>\n",
              "    <tr>\n",
              "      <th>Day_Mins</th>\n",
              "      <td>0.006216</td>\n",
              "      <td>0.000778</td>\n",
              "      <td>1.000000</td>\n",
              "      <td>0.007043</td>\n",
              "      <td>0.004323</td>\n",
              "      <td>-0.010155</td>\n",
              "      <td>-0.013423</td>\n",
              "      <td>0.006750</td>\n",
              "      <td>1.000000</td>\n",
              "      <td>0.015769</td>\n",
              "      <td>0.007029</td>\n",
              "      <td>0.022972</td>\n",
              "      <td>0.004300</td>\n",
              "      <td>0.008033</td>\n",
              "      <td>-0.010092</td>\n",
              "      <td>-0.008264</td>\n",
              "    </tr>\n",
              "    <tr>\n",
              "      <th>Eve_Mins</th>\n",
              "      <td>-0.006757</td>\n",
              "      <td>0.017562</td>\n",
              "      <td>0.007043</td>\n",
              "      <td>1.000000</td>\n",
              "      <td>-0.012584</td>\n",
              "      <td>-0.011035</td>\n",
              "      <td>-0.012985</td>\n",
              "      <td>-0.021451</td>\n",
              "      <td>0.007050</td>\n",
              "      <td>-0.011430</td>\n",
              "      <td>1.000000</td>\n",
              "      <td>0.007586</td>\n",
              "      <td>-0.012593</td>\n",
              "      <td>0.002541</td>\n",
              "      <td>-0.011067</td>\n",
              "      <td>0.003580</td>\n",
              "    </tr>\n",
              "    <tr>\n",
              "      <th>Night_Mins</th>\n",
              "      <td>-0.008955</td>\n",
              "      <td>0.007681</td>\n",
              "      <td>0.004323</td>\n",
              "      <td>-0.012584</td>\n",
              "      <td>1.000000</td>\n",
              "      <td>-0.015207</td>\n",
              "      <td>-0.009288</td>\n",
              "      <td>0.022938</td>\n",
              "      <td>0.004324</td>\n",
              "      <td>-0.002093</td>\n",
              "      <td>-0.012592</td>\n",
              "      <td>0.011204</td>\n",
              "      <td>0.999999</td>\n",
              "      <td>-0.012353</td>\n",
              "      <td>-0.015180</td>\n",
              "      <td>-0.005825</td>\n",
              "    </tr>\n",
              "    <tr>\n",
              "      <th>Intl_Mins</th>\n",
              "      <td>0.009514</td>\n",
              "      <td>0.002856</td>\n",
              "      <td>-0.010155</td>\n",
              "      <td>-0.011035</td>\n",
              "      <td>-0.015207</td>\n",
              "      <td>1.000000</td>\n",
              "      <td>-0.009640</td>\n",
              "      <td>0.021565</td>\n",
              "      <td>-0.010157</td>\n",
              "      <td>0.008703</td>\n",
              "      <td>-0.011043</td>\n",
              "      <td>-0.013605</td>\n",
              "      <td>-0.015214</td>\n",
              "      <td>0.032304</td>\n",
              "      <td>0.999993</td>\n",
              "      <td>-0.018288</td>\n",
              "    </tr>\n",
              "    <tr>\n",
              "      <th>CustServ_Calls</th>\n",
              "      <td>-0.003796</td>\n",
              "      <td>-0.013263</td>\n",
              "      <td>-0.013423</td>\n",
              "      <td>-0.012985</td>\n",
              "      <td>-0.009288</td>\n",
              "      <td>-0.009640</td>\n",
              "      <td>1.000000</td>\n",
              "      <td>-0.018942</td>\n",
              "      <td>-0.013427</td>\n",
              "      <td>0.002423</td>\n",
              "      <td>-0.012987</td>\n",
              "      <td>-0.012802</td>\n",
              "      <td>-0.009277</td>\n",
              "      <td>-0.017561</td>\n",
              "      <td>-0.009675</td>\n",
              "      <td>0.027572</td>\n",
              "    </tr>\n",
              "    <tr>\n",
              "      <th>Day_Calls</th>\n",
              "      <td>0.038470</td>\n",
              "      <td>-0.009548</td>\n",
              "      <td>0.006750</td>\n",
              "      <td>-0.021451</td>\n",
              "      <td>0.022938</td>\n",
              "      <td>0.021565</td>\n",
              "      <td>-0.018942</td>\n",
              "      <td>1.000000</td>\n",
              "      <td>0.006753</td>\n",
              "      <td>0.006462</td>\n",
              "      <td>-0.021449</td>\n",
              "      <td>-0.019557</td>\n",
              "      <td>0.022927</td>\n",
              "      <td>0.004574</td>\n",
              "      <td>0.021666</td>\n",
              "      <td>-0.009646</td>\n",
              "    </tr>\n",
              "    <tr>\n",
              "      <th>Day_Charge</th>\n",
              "      <td>0.006214</td>\n",
              "      <td>0.000776</td>\n",
              "      <td>1.000000</td>\n",
              "      <td>0.007050</td>\n",
              "      <td>0.004324</td>\n",
              "      <td>-0.010157</td>\n",
              "      <td>-0.013427</td>\n",
              "      <td>0.006753</td>\n",
              "      <td>1.000000</td>\n",
              "      <td>0.015769</td>\n",
              "      <td>0.007036</td>\n",
              "      <td>0.022972</td>\n",
              "      <td>0.004301</td>\n",
              "      <td>0.008032</td>\n",
              "      <td>-0.010094</td>\n",
              "      <td>-0.008264</td>\n",
              "    </tr>\n",
              "    <tr>\n",
              "      <th>Eve_Calls</th>\n",
              "      <td>0.019260</td>\n",
              "      <td>-0.005864</td>\n",
              "      <td>0.015769</td>\n",
              "      <td>-0.011430</td>\n",
              "      <td>-0.002093</td>\n",
              "      <td>0.008703</td>\n",
              "      <td>0.002423</td>\n",
              "      <td>0.006462</td>\n",
              "      <td>0.015769</td>\n",
              "      <td>1.000000</td>\n",
              "      <td>-0.011423</td>\n",
              "      <td>0.007710</td>\n",
              "      <td>-0.002056</td>\n",
              "      <td>0.017434</td>\n",
              "      <td>0.008674</td>\n",
              "      <td>-0.011886</td>\n",
              "    </tr>\n",
              "    <tr>\n",
              "      <th>Eve_Charge</th>\n",
              "      <td>-0.006745</td>\n",
              "      <td>0.017578</td>\n",
              "      <td>0.007029</td>\n",
              "      <td>1.000000</td>\n",
              "      <td>-0.012592</td>\n",
              "      <td>-0.011043</td>\n",
              "      <td>-0.012987</td>\n",
              "      <td>-0.021449</td>\n",
              "      <td>0.007036</td>\n",
              "      <td>-0.011423</td>\n",
              "      <td>1.000000</td>\n",
              "      <td>0.007596</td>\n",
              "      <td>-0.012601</td>\n",
              "      <td>0.002541</td>\n",
              "      <td>-0.011074</td>\n",
              "      <td>0.003607</td>\n",
              "    </tr>\n",
              "    <tr>\n",
              "      <th>Night_Calls</th>\n",
              "      <td>-0.013176</td>\n",
              "      <td>0.007123</td>\n",
              "      <td>0.022972</td>\n",
              "      <td>0.007586</td>\n",
              "      <td>0.011204</td>\n",
              "      <td>-0.013605</td>\n",
              "      <td>-0.012802</td>\n",
              "      <td>-0.019557</td>\n",
              "      <td>0.022972</td>\n",
              "      <td>0.007710</td>\n",
              "      <td>0.007596</td>\n",
              "      <td>1.000000</td>\n",
              "      <td>0.011188</td>\n",
              "      <td>0.000305</td>\n",
              "      <td>-0.013630</td>\n",
              "      <td>0.016522</td>\n",
              "    </tr>\n",
              "    <tr>\n",
              "      <th>Night_Charge</th>\n",
              "      <td>-0.008960</td>\n",
              "      <td>0.007663</td>\n",
              "      <td>0.004300</td>\n",
              "      <td>-0.012593</td>\n",
              "      <td>0.999999</td>\n",
              "      <td>-0.015214</td>\n",
              "      <td>-0.009277</td>\n",
              "      <td>0.022927</td>\n",
              "      <td>0.004301</td>\n",
              "      <td>-0.002056</td>\n",
              "      <td>-0.012601</td>\n",
              "      <td>0.011188</td>\n",
              "      <td>1.000000</td>\n",
              "      <td>-0.012329</td>\n",
              "      <td>-0.015186</td>\n",
              "      <td>-0.005845</td>\n",
              "    </tr>\n",
              "    <tr>\n",
              "      <th>Intl_Calls</th>\n",
              "      <td>0.020661</td>\n",
              "      <td>0.013957</td>\n",
              "      <td>0.008033</td>\n",
              "      <td>0.002541</td>\n",
              "      <td>-0.012353</td>\n",
              "      <td>0.032304</td>\n",
              "      <td>-0.017561</td>\n",
              "      <td>0.004574</td>\n",
              "      <td>0.008032</td>\n",
              "      <td>0.017434</td>\n",
              "      <td>0.002541</td>\n",
              "      <td>0.000305</td>\n",
              "      <td>-0.012329</td>\n",
              "      <td>1.000000</td>\n",
              "      <td>0.032372</td>\n",
              "      <td>-0.024179</td>\n",
              "    </tr>\n",
              "    <tr>\n",
              "      <th>Intl_Charge</th>\n",
              "      <td>0.009546</td>\n",
              "      <td>0.002884</td>\n",
              "      <td>-0.010092</td>\n",
              "      <td>-0.011067</td>\n",
              "      <td>-0.015180</td>\n",
              "      <td>0.999993</td>\n",
              "      <td>-0.009675</td>\n",
              "      <td>0.021666</td>\n",
              "      <td>-0.010094</td>\n",
              "      <td>0.008674</td>\n",
              "      <td>-0.011074</td>\n",
              "      <td>-0.013630</td>\n",
              "      <td>-0.015186</td>\n",
              "      <td>0.032372</td>\n",
              "      <td>1.000000</td>\n",
              "      <td>-0.018395</td>\n",
              "    </tr>\n",
              "    <tr>\n",
              "      <th>Area_Code</th>\n",
              "      <td>-0.012463</td>\n",
              "      <td>-0.001994</td>\n",
              "      <td>-0.008264</td>\n",
              "      <td>0.003580</td>\n",
              "      <td>-0.005825</td>\n",
              "      <td>-0.018288</td>\n",
              "      <td>0.027572</td>\n",
              "      <td>-0.009646</td>\n",
              "      <td>-0.008264</td>\n",
              "      <td>-0.011886</td>\n",
              "      <td>0.003607</td>\n",
              "      <td>0.016522</td>\n",
              "      <td>-0.005845</td>\n",
              "      <td>-0.024179</td>\n",
              "      <td>-0.018395</td>\n",
              "      <td>1.000000</td>\n",
              "    </tr>\n",
              "  </tbody>\n",
              "</table>\n",
              "</div>"
            ],
            "text/plain": [
              "                Account_Length  Vmail_Message  ...  Intl_Charge  Area_Code\n",
              "Account_Length        1.000000      -0.004628  ...     0.009546  -0.012463\n",
              "Vmail_Message        -0.004628       1.000000  ...     0.002884  -0.001994\n",
              "Day_Mins              0.006216       0.000778  ...    -0.010092  -0.008264\n",
              "Eve_Mins             -0.006757       0.017562  ...    -0.011067   0.003580\n",
              "Night_Mins           -0.008955       0.007681  ...    -0.015180  -0.005825\n",
              "Intl_Mins             0.009514       0.002856  ...     0.999993  -0.018288\n",
              "CustServ_Calls       -0.003796      -0.013263  ...    -0.009675   0.027572\n",
              "Day_Calls             0.038470      -0.009548  ...     0.021666  -0.009646\n",
              "Day_Charge            0.006214       0.000776  ...    -0.010094  -0.008264\n",
              "Eve_Calls             0.019260      -0.005864  ...     0.008674  -0.011886\n",
              "Eve_Charge           -0.006745       0.017578  ...    -0.011074   0.003607\n",
              "Night_Calls          -0.013176       0.007123  ...    -0.013630   0.016522\n",
              "Night_Charge         -0.008960       0.007663  ...    -0.015186  -0.005845\n",
              "Intl_Calls            0.020661       0.013957  ...     0.032372  -0.024179\n",
              "Intl_Charge           0.009546       0.002884  ...     1.000000  -0.018395\n",
              "Area_Code            -0.012463      -0.001994  ...    -0.018395   1.000000\n",
              "\n",
              "[16 rows x 16 columns]"
            ]
          },
          "metadata": {
            "tags": []
          },
          "execution_count": 26
        }
      ]
    },
    {
      "cell_type": "markdown",
      "metadata": {
        "id": "3RLTwmME7u_O",
        "colab_type": "text"
      },
      "source": [
        "##### Here , phone numbers , social security numbers and account numbers are insignificant. Hence , we can drop such features."
      ]
    },
    {
      "cell_type": "code",
      "metadata": {
        "id": "yVQP2WSuVv0a",
        "colab_type": "code",
        "colab": {}
      },
      "source": [
        "data = data.drop(['Phone','Area_Code'], axis=1)"
      ],
      "execution_count": 0,
      "outputs": []
    },
    {
      "cell_type": "code",
      "metadata": {
        "id": "7JOjkpW2A-8U",
        "colab_type": "code",
        "outputId": "0b0b9a82-6055-457a-a9cd-a0ade5d7159e",
        "colab": {
          "base_uri": "https://localhost:8080/",
          "height": 102
        }
      },
      "source": [
        "data.columns"
      ],
      "execution_count": 28,
      "outputs": [
        {
          "output_type": "execute_result",
          "data": {
            "text/plain": [
              "Index(['Account_Length', 'Vmail_Message', 'Day_Mins', 'Eve_Mins', 'Night_Mins',\n",
              "       'Intl_Mins', 'CustServ_Calls', 'Churn', 'Intl_Plan', 'Vmail_Plan',\n",
              "       'Day_Calls', 'Day_Charge', 'Eve_Calls', 'Eve_Charge', 'Night_Calls',\n",
              "       'Night_Charge', 'Intl_Calls', 'Intl_Charge', 'State'],\n",
              "      dtype='object')"
            ]
          },
          "metadata": {
            "tags": []
          },
          "execution_count": 28
        }
      ]
    },
    {
      "cell_type": "markdown",
      "metadata": {
        "id": "UyJ2v6yUIhJ2",
        "colab_type": "text"
      },
      "source": [
        "#### Feature Engineering "
      ]
    },
    {
      "cell_type": "code",
      "metadata": {
        "id": "Hk5raTJwImNy",
        "colab_type": "code",
        "colab": {}
      },
      "source": [
        "data['Avg_Night_calls'] = data['Night_Mins'] / data['Night_Calls']"
      ],
      "execution_count": 0,
      "outputs": []
    },
    {
      "cell_type": "code",
      "metadata": {
        "id": "-0xUxfx9I0Fu",
        "colab_type": "code",
        "outputId": "caf317a8-a03e-431d-c2fd-40c740fb74f6",
        "colab": {
          "base_uri": "https://localhost:8080/",
          "height": 119
        }
      },
      "source": [
        "print(data['Avg_Night_calls'].head(5))"
      ],
      "execution_count": 30,
      "outputs": [
        {
          "output_type": "stream",
          "text": [
            "0    2.689011\n",
            "1    2.469903\n",
            "2    1.563462\n",
            "3    2.212360\n",
            "4    1.544628\n",
            "Name: Avg_Night_calls, dtype: float64\n"
          ],
          "name": "stdout"
        }
      ]
    },
    {
      "cell_type": "code",
      "metadata": {
        "id": "LNdIlY4WN9_D",
        "colab_type": "code",
        "outputId": "c1053554-f20e-44ce-dd1d-b0b78a6881ca",
        "colab": {
          "base_uri": "https://localhost:8080/",
          "height": 374
        }
      },
      "source": [
        "#Look at the datatypes \n",
        "data.dtypes"
      ],
      "execution_count": 31,
      "outputs": [
        {
          "output_type": "execute_result",
          "data": {
            "text/plain": [
              "Account_Length       int64\n",
              "Vmail_Message        int64\n",
              "Day_Mins           float64\n",
              "Eve_Mins           float64\n",
              "Night_Mins         float64\n",
              "Intl_Mins          float64\n",
              "CustServ_Calls       int64\n",
              "Churn               object\n",
              "Intl_Plan           object\n",
              "Vmail_Plan          object\n",
              "Day_Calls            int64\n",
              "Day_Charge         float64\n",
              "Eve_Calls            int64\n",
              "Eve_Charge         float64\n",
              "Night_Calls          int64\n",
              "Night_Charge       float64\n",
              "Intl_Calls           int64\n",
              "Intl_Charge        float64\n",
              "State               object\n",
              "Avg_Night_calls    float64\n",
              "dtype: object"
            ]
          },
          "metadata": {
            "tags": []
          },
          "execution_count": 31
        }
      ]
    },
    {
      "cell_type": "markdown",
      "metadata": {
        "id": "FPhIhWkHPk7C",
        "colab_type": "text"
      },
      "source": [
        "Binary features that are categorical can be encoded either by replace() or Label encoding ().\n"
      ]
    },
    {
      "cell_type": "code",
      "metadata": {
        "id": "znFcjVGNPMMQ",
        "colab_type": "code",
        "colab": {}
      },
      "source": [
        "data['Intl_Plan'] = data['Intl_Plan'].replace({\"no\": 0 , \"yes\": 1})"
      ],
      "execution_count": 0,
      "outputs": []
    },
    {
      "cell_type": "code",
      "metadata": {
        "id": "abe0T_HrP8um",
        "colab_type": "code",
        "outputId": "98f4e96e-9a73-441d-df71-b240fbd745ef",
        "colab": {
          "base_uri": "https://localhost:8080/",
          "height": 119
        }
      },
      "source": [
        "data['Intl_Plan'].head()"
      ],
      "execution_count": 33,
      "outputs": [
        {
          "output_type": "execute_result",
          "data": {
            "text/plain": [
              "0    0\n",
              "1    0\n",
              "2    0\n",
              "3    1\n",
              "4    1\n",
              "Name: Intl_Plan, dtype: int64"
            ]
          },
          "metadata": {
            "tags": []
          },
          "execution_count": 33
        }
      ]
    },
    {
      "cell_type": "code",
      "metadata": {
        "id": "_Q5prBy2QAVB",
        "colab_type": "code",
        "outputId": "4a28abf0-baa8-40e4-97b6-d02ec00d1bb1",
        "colab": {
          "base_uri": "https://localhost:8080/",
          "height": 119
        }
      },
      "source": [
        "data['Vmail_Plan'] = data['Vmail_Plan'].replace({\"no\": 0 , \"yes\": 1})\n",
        "data['Vmail_Plan'].head()"
      ],
      "execution_count": 34,
      "outputs": [
        {
          "output_type": "execute_result",
          "data": {
            "text/plain": [
              "0    1\n",
              "1    1\n",
              "2    0\n",
              "3    0\n",
              "4    0\n",
              "Name: Vmail_Plan, dtype: int64"
            ]
          },
          "metadata": {
            "tags": []
          },
          "execution_count": 34
        }
      ]
    },
    {
      "cell_type": "code",
      "metadata": {
        "id": "OuoFjuQHT9Uc",
        "colab_type": "code",
        "outputId": "2988ff90-4a10-47cf-8b78-e1af0444c846",
        "colab": {
          "base_uri": "https://localhost:8080/",
          "height": 119
        }
      },
      "source": [
        "data['Churn'] = data['Churn'].replace({\"no\": 0 , \"yes\": 1})\n",
        "data['Churn'].head()"
      ],
      "execution_count": 35,
      "outputs": [
        {
          "output_type": "execute_result",
          "data": {
            "text/plain": [
              "0    0\n",
              "1    0\n",
              "2    0\n",
              "3    0\n",
              "4    0\n",
              "Name: Churn, dtype: int64"
            ]
          },
          "metadata": {
            "tags": []
          },
          "execution_count": 35
        }
      ]
    },
    {
      "cell_type": "markdown",
      "metadata": {
        "id": "e4FdetO1QZUq",
        "colab_type": "text"
      },
      "source": [
        "Since there are multiple states , assigning labels to them is a bad idea. Hence , we will use one hot-encoding. "
      ]
    },
    {
      "cell_type": "code",
      "metadata": {
        "id": "VR63e_CPUZoN",
        "colab_type": "code",
        "colab": {}
      },
      "source": [
        "data['State'] = pd.get_dummies(data['State'])"
      ],
      "execution_count": 0,
      "outputs": []
    },
    {
      "cell_type": "code",
      "metadata": {
        "id": "KppdHX3SUiSp",
        "colab_type": "code",
        "outputId": "858b3200-b989-40c7-9320-fa6ddacc4ff6",
        "colab": {
          "base_uri": "https://localhost:8080/",
          "height": 119
        }
      },
      "source": [
        "data['State'].head()"
      ],
      "execution_count": 37,
      "outputs": [
        {
          "output_type": "execute_result",
          "data": {
            "text/plain": [
              "0    0\n",
              "1    0\n",
              "2    0\n",
              "3    0\n",
              "4    0\n",
              "Name: State, dtype: uint8"
            ]
          },
          "metadata": {
            "tags": []
          },
          "execution_count": 37
        }
      ]
    },
    {
      "cell_type": "markdown",
      "metadata": {
        "id": "drY37VCjRPk7",
        "colab_type": "text"
      },
      "source": [
        "### Feature Scaling "
      ]
    },
    {
      "cell_type": "code",
      "metadata": {
        "id": "Z8GjPUekRRRh",
        "colab_type": "code",
        "outputId": "440f65ba-0a28-48b4-831c-f274e9e6466d",
        "colab": {
          "base_uri": "https://localhost:8080/",
          "height": 170
        }
      },
      "source": [
        "data['Intl_Plan'].describe()"
      ],
      "execution_count": 38,
      "outputs": [
        {
          "output_type": "execute_result",
          "data": {
            "text/plain": [
              "count    3333.000000\n",
              "mean        0.096910\n",
              "std         0.295879\n",
              "min         0.000000\n",
              "25%         0.000000\n",
              "50%         0.000000\n",
              "75%         0.000000\n",
              "max         1.000000\n",
              "Name: Intl_Plan, dtype: float64"
            ]
          },
          "metadata": {
            "tags": []
          },
          "execution_count": 38
        }
      ]
    },
    {
      "cell_type": "code",
      "metadata": {
        "id": "VaB2w_FhRg9T",
        "colab_type": "code",
        "outputId": "892e567a-c0de-4963-fd8f-3bd690bdc404",
        "colab": {
          "base_uri": "https://localhost:8080/",
          "height": 170
        }
      },
      "source": [
        "data['Night_Mins'].describe()"
      ],
      "execution_count": 39,
      "outputs": [
        {
          "output_type": "execute_result",
          "data": {
            "text/plain": [
              "count    3333.000000\n",
              "mean      200.872037\n",
              "std        50.573847\n",
              "min        23.200000\n",
              "25%       167.000000\n",
              "50%       201.200000\n",
              "75%       235.300000\n",
              "max       395.000000\n",
              "Name: Night_Mins, dtype: float64"
            ]
          },
          "metadata": {
            "tags": []
          },
          "execution_count": 39
        }
      ]
    },
    {
      "cell_type": "markdown",
      "metadata": {
        "id": "RMdZ-goWRztA",
        "colab_type": "text"
      },
      "source": [
        "\n",
        "\n",
        "```\n",
        "# This  indicates that we need to rescale our data. \n",
        "```\n",
        "\n"
      ]
    },
    {
      "cell_type": "code",
      "metadata": {
        "id": "9uu49BFkGiM4",
        "colab_type": "code",
        "outputId": "92a59b70-217c-4802-964f-4b29942ae8d8",
        "colab": {
          "base_uri": "https://localhost:8080/",
          "height": 119
        }
      },
      "source": [
        "data.columns"
      ],
      "execution_count": 40,
      "outputs": [
        {
          "output_type": "execute_result",
          "data": {
            "text/plain": [
              "Index(['Account_Length', 'Vmail_Message', 'Day_Mins', 'Eve_Mins', 'Night_Mins',\n",
              "       'Intl_Mins', 'CustServ_Calls', 'Churn', 'Intl_Plan', 'Vmail_Plan',\n",
              "       'Day_Calls', 'Day_Charge', 'Eve_Calls', 'Eve_Charge', 'Night_Calls',\n",
              "       'Night_Charge', 'Intl_Calls', 'Intl_Charge', 'State',\n",
              "       'Avg_Night_calls'],\n",
              "      dtype='object')"
            ]
          },
          "metadata": {
            "tags": []
          },
          "execution_count": 40
        }
      ]
    },
    {
      "cell_type": "code",
      "metadata": {
        "id": "Ab4qY-bKHO6d",
        "colab_type": "code",
        "colab": {}
      },
      "source": [
        "features = data.drop(['Churn'] , axis=1)"
      ],
      "execution_count": 0,
      "outputs": []
    },
    {
      "cell_type": "code",
      "metadata": {
        "id": "gdLC_kPzlRGi",
        "colab_type": "code",
        "colab": {
          "base_uri": "https://localhost:8080/",
          "height": 374
        },
        "outputId": "b58d7953-f745-4733-ea8b-94e461369c67"
      },
      "source": [
        "data.dtypes"
      ],
      "execution_count": 50,
      "outputs": [
        {
          "output_type": "execute_result",
          "data": {
            "text/plain": [
              "Account_Length       int64\n",
              "Vmail_Message        int64\n",
              "Day_Mins           float64\n",
              "Eve_Mins           float64\n",
              "Night_Mins         float64\n",
              "Intl_Mins          float64\n",
              "CustServ_Calls       int64\n",
              "Churn                int64\n",
              "Intl_Plan            int64\n",
              "Vmail_Plan           int64\n",
              "Day_Calls            int64\n",
              "Day_Charge         float64\n",
              "Eve_Calls            int64\n",
              "Eve_Charge         float64\n",
              "Night_Calls          int64\n",
              "Night_Charge       float64\n",
              "Intl_Calls           int64\n",
              "Intl_Charge        float64\n",
              "State                uint8\n",
              "Avg_Night_calls    float64\n",
              "dtype: object"
            ]
          },
          "metadata": {
            "tags": []
          },
          "execution_count": 50
        }
      ]
    },
    {
      "cell_type": "markdown",
      "metadata": {
        "id": "uvvZt_QjE4iD",
        "colab_type": "text"
      },
      "source": [
        "## Model Selection"
      ]
    },
    {
      "cell_type": "code",
      "metadata": {
        "id": "5N9jzIfsV-cx",
        "colab_type": "code",
        "colab": {}
      },
      "source": [
        "from sklearn.linear_model import LogisticRegression\n",
        "\n",
        "classifier = LogisticRegression()"
      ],
      "execution_count": 0,
      "outputs": []
    },
    {
      "cell_type": "code",
      "metadata": {
        "id": "_Ygxt8VpGQtF",
        "colab_type": "code",
        "colab": {}
      },
      "source": [
        "X = features \n",
        "y = data['Churn']"
      ],
      "execution_count": 0,
      "outputs": []
    },
    {
      "cell_type": "code",
      "metadata": {
        "id": "MiGJfrl-kolS",
        "colab_type": "code",
        "colab": {}
      },
      "source": [
        "# Split training and testing data \n",
        "from sklearn.model_selection import train_test_split\n",
        "\n",
        "X_train, y_train, X_test , y_test = train_test_split(X,y,test_size=0.3 , random_state=0)"
      ],
      "execution_count": 0,
      "outputs": []
    },
    {
      "cell_type": "code",
      "metadata": {
        "id": "94FFT1FFk4tn",
        "colab_type": "code",
        "colab": {}
      },
      "source": [
        "classifier.fit(X_train,y_train)"
      ],
      "execution_count": 0,
      "outputs": []
    },
    {
      "cell_type": "code",
      "metadata": {
        "id": "jX8YCPDOlFdX",
        "colab_type": "code",
        "colab": {}
      },
      "source": [
        "y_pred = classifier.predict(X_test)"
      ],
      "execution_count": 0,
      "outputs": []
    },
    {
      "cell_type": "code",
      "metadata": {
        "id": "efN6f8JBlg9H",
        "colab_type": "code",
        "colab": {}
      },
      "source": [
        "accuracy = metrics.accuracy_score(Y_test, Y_pred) * 100\n"
      ],
      "execution_count": 0,
      "outputs": []
    },
    {
      "cell_type": "code",
      "metadata": {
        "id": "CZ-ypIpblukj",
        "colab_type": "code",
        "colab": {}
      },
      "source": [
        "#weights of all the variables\n",
        "weight = pd.Series(classifier.coef_[0], index=X.columns.values)\n",
        "print(\"\\nweight of all the variables :\")\n",
        "print(wt.sort_values(ascending=False))"
      ],
      "execution_count": 0,
      "outputs": []
    }
  ]
}